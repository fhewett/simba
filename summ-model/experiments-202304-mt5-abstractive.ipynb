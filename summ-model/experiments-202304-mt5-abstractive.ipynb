{
 "cells": [
  {
   "cell_type": "raw",
   "source": [],
   "metadata": {
    "collapsed": false,
    "pycharm": {
     "name": ""
    }
   }
  },
  {
   "cell_type": "markdown",
   "source": [
    "# Notebook to experiment with the MT5 TSystems' abstractive summarizer model\n",
    "\n",
    "Author: Hadi, Ver 202304\n",
    "\n",
    "I am interested in two things: Speed and Quality. Quality itself has three aspects, (i) not fibbing (ii) not cutting off (iii) sufficient info"
   ],
   "metadata": {
    "collapsed": false
   }
  },
  {
   "cell_type": "code",
   "execution_count": 29,
   "outputs": [
    {
     "name": "stdout",
     "output_type": "stream",
     "text": [
      "# Apple opens first flagship store in India\n",
      "\n",
      "12 hours ago12 hours ago\n",
      "\n",
      "Hundreds of people waited in line outside the new Apple store in the financial\n",
      "hub Mumbai. The company is planning to boost its production in India — the\n",
      "second-largest smartphone market in the world.\n",
      "\n",
      "https://p.dw.com/p/4QDnu\n",
      "\n",
      "Advertisement\n",
      "\n",
      "Apple CEO Tim Cook was in Mumbai on Tuesday to inaugurate the company's first\n",
      "retail store in India.\n",
      "\n",
      "\"India has such a beautiful culture and an incredible energy, and we're\n",
      "excited to build on our long-standing history,\" Cook said in a statement.\n",
      "\n",
      "Bloggers, tech analysts and Bollywood celebrities were invited to the opening\n",
      "of the new store in Mumbai's Jio World Drive shopping mall.\n",
      "\n",
      "About 300 Apple fans were seen lining up outside the store, some of them\n",
      "waiting since the previous night.\n",
      "\n",
      "\"The fanboy inside me would not listen,\" 30-year-old Purav Mehta, who wanted\n",
      "to get Cook's autograph, told Reuters news agency.\n",
      "\n",
      "> A second store is set to open in the capital, New Delhi, on Thursday. Cook\n",
      "> is also expected to meet Indian Prime Minister Narendra Modi and India's\n",
      "> deputy IT minister later this week.\n",
      "## Eye on the Indian market\n",
      "\n",
      "The bulk of Apple's smartphone and tablets are assembled in China, but the\n",
      "tech giant also has plans to expand production in India.\n",
      "\n",
      "The South Asian country of 1.4 billion people is also the second-largest\n",
      "smartphone market in the world.\n",
      "\n",
      "Apple has been operating in India for more than 25 years, and it began\n",
      "manufacturing products there in 2017.\n",
      "\n",
      "According to Counterpoint Research, India produces around 13 million iPhones\n",
      "every year, up from under 5 million three years ago.\n",
      "\n",
      "The tech giant has been selling its products in India online and through\n",
      "authorized retailers, but regulatory clearances and the pandemic had delayed\n",
      "its plan to open a flagship store in the country.\n",
      "\n",
      "Indian Commerce Minister Piyush Goyal said last week that Apple plans to have\n",
      "25% of their global production come out of India in the next five years.\n",
      "\n",
      "\n"
     ]
    }
   ],
   "source": [
    "# LOAD A WEBPAGE FOR ANALYSIS. Extracts pages content as text into `txt` variable\n",
    "\n",
    "import requests\n",
    "import html2text  # pip\n",
    "import lxml.html\n",
    "\n",
    "#url = \"https://www.dw.com/en/brazil-welcomes-russias-lavrov-amid-us-criticism/a-65353778\"\n",
    "#url = \"https://www.dw.com/en/apple-opens-first-flagship-store-in-india/a-65354938\"\n",
    "\n",
    "response = requests.get(url)\n",
    "\n",
    "tree = lxml.html.fromstring(response.text)\n",
    "el = tree.xpath('//main|//div[@role=\"main\"]|//section[@role=\"main\"]|//div[@class=\"main-row\"]|//div[@class=\"main\"]|//div[@id=\"main\"]')\n",
    "if el:\n",
    "    src = \"\\n\".join(el.getall())\n",
    "    print(\"found\")\n",
    "else:\n",
    "    src = response.text\n",
    "    #print(\"not found\")\n",
    "\n",
    "h = html2text.HTML2Text()\n",
    "h.ignore_links = True\n",
    "h.ignore_emphasis = True\n",
    "h.images_to_alt = False\n",
    "h.single_line_break = True\n",
    "txt = h.handle(src)\n",
    "\n",
    "# let's remove the fluf manually on this page\n",
    "if \"# Brazil\" in txt:\n",
    "    txt = txt[txt.find(\"# Brazil welcomes Russia's\"):txt.find(\"mf/wd (AP, AFP)\")]\n",
    "elif \"# Apple\" in txt:\n",
    "    txt = txt[txt.find(\"# Apple opens first\"):txt.find(\"mf/nm (AP, Reuters)\")]\n",
    "print(txt)"
   ],
   "metadata": {
    "collapsed": false,
    "ExecuteTime": {
     "start_time": "2023-04-18T22:55:54.668640Z",
     "end_time": "2023-04-18T22:55:55.351872Z"
    }
   }
  },
  {
   "cell_type": "code",
   "execution_count": 18,
   "outputs": [
    {
     "name": "stdout",
     "output_type": "stream",
     "text": [
      "1991 52\n"
     ]
    }
   ],
   "source": [
    "# TODO:  use a method to detect the text language, also fast\n",
    "\n",
    "print(len(txt), len(txt.split(\"\\n\")))  # 3121 chars, 80 lines, xx tokens"
   ],
   "metadata": {
    "collapsed": false,
    "ExecuteTime": {
     "start_time": "2023-04-18T22:18:15.195418Z",
     "end_time": "2023-04-18T22:18:15.238488Z"
    }
   }
  },
  {
   "cell_type": "code",
   "execution_count": 19,
   "outputs": [
    {
     "name": "stdout",
     "output_type": "stream",
     "text": [
      "CPU times: user 475 ms, sys: 21.2 ms, total: 496 ms\n",
      "Wall time: 653 ms\n",
      "CPU times: user 4.16 s, sys: 672 ms, total: 4.83 s\n",
      "Wall time: 3.62 s\n",
      "Tue Apr 18 22:18:23 2023       \r\n",
      "+---------------------------------------------------------------------------------------+\r\n",
      "| NVIDIA-SMI 530.41.03              Driver Version: 530.41.03    CUDA Version: 12.1     |\r\n",
      "|-----------------------------------------+----------------------+----------------------+\r\n",
      "| GPU  Name                  Persistence-M| Bus-Id        Disp.A | Volatile Uncorr. ECC |\r\n",
      "| Fan  Temp  Perf            Pwr:Usage/Cap|         Memory-Usage | GPU-Util  Compute M. |\r\n",
      "|                                         |                      |               MIG M. |\r\n",
      "|=========================================+======================+======================|\r\n",
      "|   0  Quadro RTX 4000 with Max-...    Off| 00000000:01:00.0 Off |                  N/A |\r\n",
      "| N/A   61C    P0               30W /  N/A|    816MiB /  8192MiB |      0%      Default |\r\n",
      "|                                         |                      |                  N/A |\r\n",
      "+-----------------------------------------+----------------------+----------------------+\r\n",
      "                                                                                         \r\n",
      "+---------------------------------------------------------------------------------------+\r\n",
      "| Processes:                                                                            |\r\n",
      "|  GPU   GI   CI        PID   Type   Process name                            GPU Memory |\r\n",
      "|        ID   ID                                                             Usage      |\r\n",
      "|=======================================================================================|\r\n",
      "|    0   N/A  N/A      2644      G   /usr/lib/xorg/Xorg                            4MiB |\r\n",
      "|    0   N/A  N/A      5176      C   /home/hadi/.venv/simba2/bin/python          808MiB |\r\n",
      "+---------------------------------------------------------------------------------------+\r\n"
     ]
    }
   ],
   "source": [
    "from transformers import MT5ForConditionalGeneration, MT5Tokenizer\n",
    "%time tokenizer = MT5Tokenizer.from_pretrained(\"T-Systems-onsite/mt5-small-sum-de-en-v2\")  # 0.5s, once\n",
    "%time model = MT5ForConditionalGeneration.from_pretrained(\"T-Systems-onsite/mt5-small-sum-de-en-v2\")  # 4.3s, once\n",
    "#model.half()  # 92ms, speeds up inference, mem at 708MiB\n",
    "model.cuda()  # 99ms\n",
    "# model.eval() unnecessary\n",
    "\n",
    "!nvidia-smi"
   ],
   "metadata": {
    "collapsed": false,
    "ExecuteTime": {
     "start_time": "2023-04-18T22:18:19.327448Z",
     "end_time": "2023-04-18T22:18:23.923344Z"
    }
   }
  },
  {
   "cell_type": "code",
   "execution_count": 32,
   "outputs": [
    {
     "name": "stdout",
     "output_type": "stream",
     "text": [
      "CPU times: user 322 ms, sys: 0 ns, total: 322 ms\n",
      "Wall time: 322 ms\n",
      "Russia's foreign minister has expressed gratitude to the South American country for its \"excellent\" understanding of Ukraine conflict.\n"
     ]
    }
   ],
   "source": [
    "# mmm, max_new_tokens=20 does good job. without it not so much.\n",
    "\n",
    "input_ids = tokenizer.encode(txt, return_tensors=\"pt\", max_length=512, truncation=True)  # 3ms\n",
    "\n",
    "# 625ms on GPU with or without beams\n",
    "%time output = model.generate(input_ids=input_ids.cuda(), max_new_tokens=120, repetition_penalty=1.5)  # do_sample=True, num_beams=4)\n",
    "\n",
    "print(tokenizer.decode(output[0], skip_special_tokens=True))"
   ],
   "metadata": {
    "collapsed": false,
    "ExecuteTime": {
     "start_time": "2023-04-18T22:56:37.560175Z",
     "end_time": "2023-04-18T22:56:37.920019Z"
    }
   }
  },
  {
   "cell_type": "code",
   "execution_count": 52,
   "outputs": [],
   "source": [
    "txt = \"\"\"Brazil welcomes Russia's Lavrov amid US criticism\n",
    "\n",
    "The United States has criticized Brazil's stance on Moscow's invasion of Ukraine and alleged that \"Brazil is parroting Russian and Chinese propaganda.\"\n",
    "\n",
    "Russian Foreign Minister Sergey Lavrov visited Brazil on Monday and expressed gratitude to the South American country for its controversial efforts to mediate the Ukraine conflict.\n",
    "\n",
    "\"As for the process in Ukraine, we are grateful to our Brazilian friends for their excellent understanding of this situation's genesis. We are grateful (to them) for striving to contribute to finding ways to settle it,\" Lavrov said, sitting alongside his Brazilian counterpart, Mauro Vieira.\n",
    "\n",
    "In regards to the Kremlin-backed invasion of Ukraine, Vieira told journalists that Brazil sees sanctions against Russia as causing negative impacts for the global economy. He added that Brazil supports an immediate cease-fire in Ukraine.\n",
    "\n",
    "Lavrov also met with Brazilian President Luiz Inacio Lula da Silva, who has raised eyebrows in the West with his recent comments on Moscow's invasion of Ukraine.\n",
    "\n",
    "Lula da Silva: 'Time for China to get involved' in Ukraine peace negotiationsTo view this video please enable JavaScript, and consider upgrading to a web browser that Video Player is loading.Current Time 0:00Duration 0:00Remaining Time 0:00Quality\n",
    "\n",
    "Brazil cozying up with Russia, China\n",
    "\n",
    "Brazil has not joined Western nations in imposing sanctions on Russia for its war and has refused requests to supply ammunition to Ukraine.\n",
    "\n",
    "President Lula da Silva, on a recent trip to the United Arab Emirates, said Kyiv shares the blame for the conflict.\n",
    "\n",
    "On Saturday, Lula met Chinese leader Xi Jinping in Beijing where he said that \"the United States needs to stop encouraging war and start talking about peace. The European Union needs to start talking about peace.\"\n",
    "\n",
    "Earlier this month, he also suggested that Ukraine could give up Crimea to end the war.\n",
    "\n",
    "'If you liberate Crimea, that changes everything'To view this video please enable JavaScript, and consider upgrading to a web browser that Video Player is loading.Current Time 0:00Duration 0:00Remaining Time 0:00Quality\n",
    "\n",
    "US: Brazil's views are 'deeply problematic'\n",
    "\n",
    "Brazil's stance on the Ukraine war and its allegations against the West drew sharp criticism from the US, which described the views as \"deeply problematic.\"\n",
    "\n",
    "Following the meeting between Lavrov and Vieira, US national security spokesman John Kirby said, \"Brazil is parroting Russian and Chinese propaganda without at all looking at the facts.\"\n",
    "\n",
    "\"The most recent comments by Brazil that Ukraine should consider formally ceding Crimea as a peace concession is simply misguided, especially for a country like Brazil that has voted to uphold the principles of sovereignty and territorial integrity (at the UN),\" he said.\n",
    "\n",
    "Brazil, however, rejected the US' comments.\n",
    "\n",
    "\"I don't know how or why he reached that conclusion but I do not agree at all,\" Brazil's Viera said, referring to the remarks from Kirby.\n",
    "\n",
    "Lavrov, meanwhile, told a press conference that the West has got itself involved in \"a rather tough struggle\" to continue its dominance over world affairs.\n",
    "\n",
    "mf/wd (AP, AFP)\n",
    "\n",
    "Biden: 'The United States will never, never, never recognize Russia's claims'To view this video please enable JavaScript, and consider upgrading to a web browser that Video Player is loading.Current Time 0:00Duration 0:00Remaining Time 0:00Quality\n",
    "\"\"\""
   ],
   "metadata": {
    "collapsed": false,
    "ExecuteTime": {
     "start_time": "2023-04-19T01:13:10.665498Z",
     "end_time": "2023-04-19T01:13:10.667639Z"
    }
   }
  },
  {
   "cell_type": "code",
   "execution_count": 49,
   "outputs": [
    {
     "name": "stdout",
     "output_type": "stream",
     "text": [
      "32 201\n"
     ]
    },
    {
     "data": {
      "text/plain": "Downloading (…)okenizer_config.json:   0%|          | 0.00/356 [00:00<?, ?B/s]",
      "application/vnd.jupyter.widget-view+json": {
       "version_major": 2,
       "version_minor": 0,
       "model_id": "4aab6a0488504d6bb87160c8034305eb"
      }
     },
     "metadata": {},
     "output_type": "display_data"
    },
    {
     "data": {
      "text/plain": "Downloading (…)lve/main/config.json:   0%|          | 0.00/677 [00:00<?, ?B/s]",
      "application/vnd.jupyter.widget-view+json": {
       "version_major": 2,
       "version_minor": 0,
       "model_id": "3a4cc3ba25674d8097096ee99c5b0169"
      }
     },
     "metadata": {},
     "output_type": "display_data"
    },
    {
     "data": {
      "text/plain": "Downloading (…)tencepiece.bpe.model:   0%|          | 0.00/5.07M [00:00<?, ?B/s]",
      "application/vnd.jupyter.widget-view+json": {
       "version_major": 2,
       "version_minor": 0,
       "model_id": "a07c4c88149f48e49db379279428c1bb"
      }
     },
     "metadata": {},
     "output_type": "display_data"
    },
    {
     "data": {
      "text/plain": "Downloading (…)/main/tokenizer.json:   0%|          | 0.00/9.08M [00:00<?, ?B/s]",
      "application/vnd.jupyter.widget-view+json": {
       "version_major": 2,
       "version_minor": 0,
       "model_id": "c81ef22dca164244b299660027bc3fa4"
      }
     },
     "metadata": {},
     "output_type": "display_data"
    },
    {
     "data": {
      "text/plain": "Downloading (…)cial_tokens_map.json:   0%|          | 0.00/239 [00:00<?, ?B/s]",
      "application/vnd.jupyter.widget-view+json": {
       "version_major": 2,
       "version_minor": 0,
       "model_id": "99b3f5a4964546e88e971842ae99afbc"
      }
     },
     "metadata": {},
     "output_type": "display_data"
    },
    {
     "name": "stdout",
     "output_type": "stream",
     "text": [
      "512\n"
     ]
    }
   ],
   "source": [
    "# TOKENIZER RELATED QUESTIONS/INVESTIGATIONS.\n",
    "\n",
    "# - use a fast tokenizer to get number of tokens (should be >20tokz, <512tokz) → resolved, below\n",
    "\n",
    "# import spacy\n",
    "# SPACY_NLP = spacy.load(\"de_core_news_sm\")\n",
    "# s = list(SPACY_NLP(txt).sents)[0]\n",
    "# print(len(s), len(str(s)))\n",
    "#\n",
    "# import sentence_transformers\n",
    "# from transformers import AutoTokenizer\n",
    "# model = sentence_transformers.SentenceTransformer('symanto/sn-xlm-roberta-base-snli-mnli-anli-xnli')\n",
    "# tokz = AutoTokenizer.from_pretrained(('symanto/sn-xlm-roberta-base-snli-mnli-anli-xnli'))\n",
    "# print(tokz.model_max_length)"
   ],
   "metadata": {
    "collapsed": false,
    "ExecuteTime": {
     "start_time": "2023-04-19T01:04:06.322214Z",
     "end_time": "2023-04-19T01:04:15.848341Z"
    }
   }
  },
  {
   "cell_type": "code",
   "execution_count": 1,
   "outputs": [
    {
     "ename": "ModuleNotFoundError",
     "evalue": "No module named 'neural_compressor'",
     "output_type": "error",
     "traceback": [
      "\u001B[0;31m---------------------------------------------------------------------------\u001B[0m",
      "\u001B[0;31mModuleNotFoundError\u001B[0m                       Traceback (most recent call last)",
      "Cell \u001B[0;32mIn[1], line 1\u001B[0m\n\u001B[0;32m----> 1\u001B[0m \u001B[38;5;28;01mfrom\u001B[39;00m \u001B[38;5;21;01mneural_compressor\u001B[39;00m\u001B[38;5;21;01m.\u001B[39;00m\u001B[38;5;21;01mconfig\u001B[39;00m \u001B[38;5;28;01mimport\u001B[39;00m PostTrainingQuantConfig\n\u001B[1;32m      2\u001B[0m \u001B[38;5;28;01mfrom\u001B[39;00m \u001B[38;5;21;01moptimum\u001B[39;00m\u001B[38;5;21;01m.\u001B[39;00m\u001B[38;5;21;01mintel\u001B[39;00m\u001B[38;5;21;01m.\u001B[39;00m\u001B[38;5;21;01mneural_compressor\u001B[39;00m \u001B[38;5;28;01mimport\u001B[39;00m INCQuantizer, INCModelForSequenceClassification\n",
      "\u001B[0;31mModuleNotFoundError\u001B[0m: No module named 'neural_compressor'"
     ]
    }
   ],
   "source": [
    "# TO DO: let's try intel int8 quantization\n",
    "\n",
    "# TODO PIP etc. copy code from LocalDialog (KICamp code)\n",
    "\n",
    "from neural_compressor.config import PostTrainingQuantConfig\n",
    "from optimum.intel.neural_compressor import INCQuantizer, INCModelForSequenceClassification\n"
   ],
   "metadata": {
    "collapsed": false,
    "ExecuteTime": {
     "start_time": "2023-04-19T01:05:48.504299Z",
     "end_time": "2023-04-19T01:05:48.506384Z"
    }
   }
  }
 ],
 "metadata": {
  "kernelspec": {
   "display_name": "Python 3",
   "language": "python",
   "name": "python3"
  },
  "language_info": {
   "codemirror_mode": {
    "name": "ipython",
    "version": 2
   },
   "file_extension": ".py",
   "mimetype": "text/x-python",
   "name": "python",
   "nbconvert_exporter": "python",
   "pygments_lexer": "ipython2",
   "version": "2.7.6"
  }
 },
 "nbformat": 4,
 "nbformat_minor": 0
}
